{
 "cells": [
  {
   "cell_type": "code",
   "execution_count": 1,
   "metadata": {},
   "outputs": [
    {
     "name": "stdout",
     "output_type": "stream",
     "text": [
      "Requirement already satisfied: joblib in c:\\users\\samir\\appdata\\local\\programs\\python\\python311\\lib\\site-packages (1.4.2)\n"
     ]
    }
   ],
   "source": [
    "!pip install joblib"
   ]
  },
  {
   "cell_type": "code",
   "execution_count": 1,
   "metadata": {},
   "outputs": [],
   "source": [
    "import os\n",
    "from format_dataset import best_filter_search, convert_images_to_png"
   ]
  },
  {
   "cell_type": "code",
   "execution_count": 2,
   "metadata": {},
   "outputs": [],
   "source": [
    "data_path = os.path.join(os.getcwd(), \"dataset\\\\brain_tumor_dataset\")\n",
    "yes_images_path = os.path.join(data_path, \"yes\")\n",
    "no_images_path = os.path.join(data_path, \"no\")"
   ]
  },
  {
   "cell_type": "code",
   "execution_count": 3,
   "metadata": {},
   "outputs": [
    {
     "name": "stderr",
     "output_type": "stream",
     "text": [
      "Converting images: 100%|██████████| 153/153 [00:00<?, ?it/s]\n",
      "Converting images: 100%|██████████| 98/98 [00:00<?, ?it/s]\n"
     ]
    }
   ],
   "source": [
    "convert_images_to_png(yes_images_path)\n",
    "convert_images_to_png(no_images_path)"
   ]
  },
  {
   "cell_type": "code",
   "execution_count": 4,
   "metadata": {},
   "outputs": [
    {
     "name": "stderr",
     "output_type": "stream",
     "text": [
      "Applying kernels: 100%|██████████| 7/7 [01:42<00:00, 14.67s/it]\n"
     ]
    }
   ],
   "source": [
    "best_metrics, best_combo, model = best_filter_search(yes_images_path=yes_images_path, no_images_path=no_images_path)"
   ]
  },
  {
   "cell_type": "code",
   "execution_count": 5,
   "metadata": {},
   "outputs": [
    {
     "name": "stdout",
     "output_type": "stream",
     "text": [
      "Best Accuracy: 0.9215686274509803\n",
      "Best Precision: 0.9354838709677419\n",
      "Best Recall: 0.9354838709677419\n",
      "Best F1 Score: 0.9354838709677419\n",
      "Best Kernel Combination: ['Sharpen', 'Sobel Y']\n"
     ]
    }
   ],
   "source": [
    "print(f\"Best Accuracy: {best_metrics['accuracy']}\")\n",
    "print(f\"Best Precision: {best_metrics['precision']}\")\n",
    "print(f\"Best Recall: {best_metrics['recall']}\")\n",
    "print(f\"Best F1 Score: {best_metrics['f1']}\")\n",
    "print(f\"Best Kernel Combination: {best_combo}\")"
   ]
  },
  {
   "cell_type": "code",
   "execution_count": 6,
   "metadata": {},
   "outputs": [],
   "source": [
    "import joblib"
   ]
  },
  {
   "cell_type": "code",
   "execution_count": 7,
   "metadata": {},
   "outputs": [
    {
     "data": {
      "text/plain": [
       "['model.pkl']"
      ]
     },
     "execution_count": 7,
     "metadata": {},
     "output_type": "execute_result"
    }
   ],
   "source": [
    "joblib.dump(model, \"model.pkl\")"
   ]
  }
 ],
 "metadata": {
  "kernelspec": {
   "display_name": "Python 3",
   "language": "python",
   "name": "python3"
  },
  "language_info": {
   "codemirror_mode": {
    "name": "ipython",
    "version": 3
   },
   "file_extension": ".py",
   "mimetype": "text/x-python",
   "name": "python",
   "nbconvert_exporter": "python",
   "pygments_lexer": "ipython3",
   "version": "3.11.6"
  }
 },
 "nbformat": 4,
 "nbformat_minor": 2
}
